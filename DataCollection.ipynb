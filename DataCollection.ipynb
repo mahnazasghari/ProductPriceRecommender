{
 "cells": [
  {
   "cell_type": "markdown",
   "metadata": {},
   "source": [
    "# Data Collection"
   ]
  },
  {
   "cell_type": "markdown",
   "metadata": {},
   "source": [
    "Here, we crawl Best Buy's website using their Products API and Categories API to get data regarding specifications and features of the laptops on their website. The data includes the following information about laptops: 2-in-1 design, Backlit keyboard, Brand, Color, Number of HDMI ports, Number of USB ports, Battery life, Graphics, Optical drive type, Processor model, Weight, Screen resolution, Screen size, SSD capacity, Total storage, RAM, Touch screen, Average customer review, and price.\n",
    "The data is then exported to a .csv file."
   ]
  },
  {
   "cell_type": "code",
   "execution_count": 1,
   "metadata": {},
   "outputs": [],
   "source": [
    "import requests\n",
    "import pandas as pd\n",
    "import json\n",
    "import time\n",
    "\n",
    "currentPage = 1\n",
    "detailsData = []\n",
    "while True:\n",
    "    url = \"https://api.bestbuy.com/v1/products(categoryPath.id=pcmcat138500050001&condition=New)?format=json&show=details.value,customerReviewAverage,customerReviewCount,regularPrice,condition&pageSize=100&page=\" + str(currentPage) + \"&apiKey=YOURKEY\"\n",
    "    textDataPerPage = requests.get(url)\n",
    "    dataPerPage = textDataPerPage.json()\n",
    "    pdDataPerPage=pd.DataFrame.from_records(dataPerPage)  \n",
    "    for item in range(pdDataPerPage['to'][0] - pdDataPerPage['from'][0] + 1):\n",
    "        dict = {}\n",
    "        for feature in pdDataPerPage['products'][item]['details']:\n",
    "            featureName = feature['name']\n",
    "            featureValue = feature['value']\n",
    "            dict[featureName]= featureValue\n",
    "        dict['customerReviewAverage'] = pdDataPerPage['products'][item]['customerReviewAverage']\n",
    "        dict['customerReviewCount'] = pdDataPerPage['products'][item]['customerReviewCount']\n",
    "        dict['condition'] = pdDataPerPage['products'][item]['condition']\n",
    "        dict['regularPrice'] = pdDataPerPage['products'][item]['regularPrice']\n",
    "        detailsData.append(dict)\n",
    "    currentPage += 1\n",
    "    if (currentPage > pdDataPerPage['totalPages'][1]):\n",
    "        break\n",
    "    time.sleep(3)\n",
    "pdData = pd.DataFrame(detailsData)\n",
    "pdData.to_csv('data.csv')"
   ]
  }
 ],
 "metadata": {
  "kernelspec": {
   "display_name": "Python 3",
   "language": "python",
   "name": "python3"
  },
  "language_info": {
   "codemirror_mode": {
    "name": "ipython",
    "version": 3
   },
   "file_extension": ".py",
   "mimetype": "text/x-python",
   "name": "python",
   "nbconvert_exporter": "python",
   "pygments_lexer": "ipython3",
   "version": "3.7.0"
  }
 },
 "nbformat": 4,
 "nbformat_minor": 2
}
